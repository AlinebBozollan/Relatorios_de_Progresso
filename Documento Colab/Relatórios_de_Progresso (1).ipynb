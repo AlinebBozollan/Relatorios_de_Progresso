{
  "cells": [
    {
      "cell_type": "markdown",
      "metadata": {
        "id": "StGmu2YT8zMI"
      },
      "source": [
        "# <font color = #0B0B3B> **Relatório Semanal de Desenvolvimento de Software.**</font>\n",
        "\n",
        "### Este documento apresenta o relatório de análise dos dados de um projeto de desenvolvimento de software realizado ao longo de uma semana. O relatório tem como objetivo demonstrar a importância da análise de dados para o acompanhamento do progresso do projeto, identificação de áreas de melhoria e tomada de decisões para garantir o sucesso do empreendimento.\n",
        "\n",
        "---"
      ]
    },
    {
      "cell_type": "markdown",
      "metadata": {
        "id": "hgdegHsCCUhG"
      },
      "source": [
        "Para gerar o relatório de progresso diário e calcular os outros itens solicitados, precisamos realizar algumas manipulações nos dados utilizando a biblioteca Pandas. Vamos seguir os passos abaixo para fazer essa análise:\n",
        "\n",
        "1. Importar as bibliotecas necessárias.\n",
        "2. Criação do DataFrame.\n",
        "3. Manipulação dos dados\n"
      ]
    },
    {
      "cell_type": "markdown",
      "metadata": {
        "id": "fpMn-tZlEelJ"
      },
      "source": [
        "#<font color = #0B0B3B> **Passo 1**</font> : Importar as bibliotecas necessárias.\n",
        " Vamos começar importando a biblioteca Pandas e utilizando os dados fornecidos:\n",
        "\n",
        " * A importação da biblioteca pandas ira auxiliar na manipulação e visualização dos dados."
      ]
    },
    {
      "cell_type": "code",
      "execution_count": 23,
      "metadata": {
        "id": "H5gLRnD3GP_f"
      },
      "outputs": [],
      "source": [
        "import pandas as pd\n",
        "import numpy as np\n",
        "import matplotlib.pyplot as plt"
      ]
    },
    {
      "cell_type": "markdown",
      "metadata": {
        "id": "QET64h8WWKN9"
      },
      "source": [
        "#<font color = #0B0B3B> **Bibliotecas e suas funções** </font>-\n",
        "* Pandas:\n",
        "O pandas é uma biblioteca de código aberto que oferece estruturas de dados e ferramentas de manipulação de dados de alta performance para Python. A principal estrutura de dados que o pandas oferece é chamada de \"DataFrame\", que se assemelha a uma planilha ou tabela de banco de dados. O DataFrame permite organizar, limpar e analisar dados de forma fácil e eficiente. O pandas é muito utilizado para a manipulação de dados tabulares e sua análise exploratória.\n",
        "\n",
        "* NumPy:\n",
        "NumPy é outra biblioteca importante para Python, que é usada principalmente para computação numérica. Ela oferece suporte a matrizes multidimensionais (conhecidas como arrays) e funções matemáticas que operam eficientemente nesses arrays. A principal estrutura do NumPy é o \"array numpy\", que permite executar operações rápidas em grandes conjuntos de dados numéricos. O NumPy é amplamente utilizado para operações matemáticas e manipulações numéricas avançadas.\n",
        "\n",
        "* Matplotlib:\n",
        "Matplotlib é uma biblioteca gráfica para Python que permite criar visualizações de dados em 2D, como gráficos de linhas, gráficos de barras, gráficos de dispersão, histogramas e muito mais. Ele é altamente personalizável e flexível, possibilitando a criação de gráficos com qualidade de publicação. O Matplotlib é frequentemente usado em conjunto com o pandas e o NumPy para visualizar dados e resultados de análises de forma clara e informativa."
      ]
    },
    {
      "cell_type": "markdown",
      "metadata": {
        "id": "JDMvToyxJYqE"
      },
      "source": [
        "#<font color = #0B0B3B> **Passo 2**</font> : Criação do DataFrame.\n",
        "* A Criação do DataFrame tem como ultilidade a vizualização dos dados iniciais obtidos nos relatórios."
      ]
    },
    {
      "cell_type": "code",
      "execution_count": 11,
      "metadata": {
        "colab": {
          "base_uri": "https://localhost:8080/"
        },
        "id": "mHRHVzD_KMd2",
        "outputId": "7582fa8c-6018-43de-ead5-ca4a2685d405"
      },
      "outputs": [
        {
          "name": "stdout",
          "output_type": "stream",
          "text": [
            "  Dias da Semana  Horas Trabalhadas  Bugs Corrigidos  Tarefas Concluídas\n",
            "0        Segunda                  6                3                   5\n",
            "1          Terça                  7                2                   4\n",
            "2         Quarta                  8                1                   6\n",
            "3         Quinta                  6                4                   4\n",
            "4          Sexta                  7                3                   5\n",
            "5         Sabado                  5                2                   3\n",
            "6        Domingo                  4                1                   2\n"
          ]
        }
      ],
      "source": [
        "# Dados fornecidos\n",
        "relatorio = {\n",
        "    'Dias da Semana': ['Segunda', 'Terça', 'Quarta', 'Quinta', 'Sexta', 'Sabado', 'Domingo'],\n",
        "    'Horas Trabalhadas': [6, 7, 8, 6, 7, 5, 4],\n",
        "    'Bugs Corrigidos': [3, 2, 1, 4, 3, 2, 1],\n",
        "    'Tarefas Concluídas': [5, 4, 6, 4, 5, 3, 2]\n",
        "}\n",
        "\n",
        "# Criando o DataFrame\n",
        "df_relatorio = pd.DataFrame(relatorio, index=[0, 1, 2, 3, 4, 5, 6])\n",
        "\n",
        "# Visualizando os dados\n",
        "print(df_relatorio)"
      ]
    },
    {
      "cell_type": "markdown",
      "metadata": {
        "id": "WqLAObQpM8FE"
      },
      "source": [
        "* O Resultado é uma tabela com dados e suas respectivas colunas informativas, tais como 'Dias da Semana', 'Horas Trabalhadas', 'Bugs Corrigidos'e 'Tarefas Concluídas'."
      ]
    },
    {
      "cell_type": "markdown",
      "metadata": {
        "id": "J57qA8ckXYbt"
      },
      "source": [
        "#<font color = #0B0B3B> **Passo 3**</font> : Manipulação dos dados.\n",
        "\n",
        "* Agora, vamos realizar os cálculos para as questões para análise:\n",
        "1. Calcular o Total de Horas Trabalhadas.\n",
        "2. Calcular a Média Diária de Horas Trabalhadas.\n",
        "3. Calcular o Total de Bugs Corrigidos.\n",
        "4. Calcular a Média Diária de Bugs Corrigidos.\n",
        "5. Calcular o Total de Tarefas Concluídas.\n",
        "6. Calcular a Média Diária de Tarefas Concluídas.\n",
        "7. Calcular a Produtividade Diária (Tarefas Concluídas por Hora)."
      ]
    },
    {
      "cell_type": "markdown",
      "metadata": {
        "id": "S8DbR2sAO-dU"
      },
      "source": [
        "#<font color = ##013ADF> **Relatório 1** </font>- Calcular o Total de Horas Trabalhadas.\n",
        "* O código abaixo retorna total de horas trabalhadas em todo o período analisado."
      ]
    },
    {
      "cell_type": "code",
      "execution_count": 14,
      "metadata": {
        "colab": {
          "base_uri": "https://localhost:8080/"
        },
        "id": "zmHlqItJQaON",
        "outputId": "ea58abd6-66c3-4d49-d21b-3fda78844255"
      },
      "outputs": [
        {
          "data": {
            "text/plain": [
              "43"
            ]
          },
          "execution_count": 14,
          "metadata": {},
          "output_type": "execute_result"
        }
      ],
      "source": [
        "# Total de Horas Trabalhadas\n",
        "df_relatorio ['Horas Trabalhadas'].sum()"
      ]
    },
    {
      "cell_type": "markdown",
      "metadata": {
        "id": "VBV7tPOAQ5Eu"
      },
      "source": [
        "#<font color = ##013ADF> **Relatório 2** </font>- Calcular a Média Diária de Horas Trabalhadas.\n",
        "* O código abaixo retorna a média diária de horas trabalhadas."
      ]
    },
    {
      "cell_type": "code",
      "execution_count": 15,
      "metadata": {
        "colab": {
          "base_uri": "https://localhost:8080/"
        },
        "id": "TNaO-lk2RHL_",
        "outputId": "47ad1da5-a166-44b0-83c3-db9f9430f7fd"
      },
      "outputs": [
        {
          "data": {
            "text/plain": [
              "6.142857142857143"
            ]
          },
          "execution_count": 15,
          "metadata": {},
          "output_type": "execute_result"
        }
      ],
      "source": [
        "# Média Diária de Horas Trabalhadas\n",
        "df_relatorio ['Horas Trabalhadas'].mean()"
      ]
    },
    {
      "cell_type": "markdown",
      "metadata": {
        "id": "cOECowBiRN91"
      },
      "source": [
        "#<font color = ##013ADF> **Relatório 3** </font>- Calcular o Total de Bugs Corrigidos.\n",
        "* O código abaixo retorna o total de bugs corrigido no período analisado."
      ]
    },
    {
      "cell_type": "code",
      "execution_count": 16,
      "metadata": {
        "colab": {
          "base_uri": "https://localhost:8080/"
        },
        "id": "hlDqRQWRRk7E",
        "outputId": "550f2e51-706f-41d1-ff72-bab1a28af5b5"
      },
      "outputs": [
        {
          "data": {
            "text/plain": [
              "16"
            ]
          },
          "execution_count": 16,
          "metadata": {},
          "output_type": "execute_result"
        }
      ],
      "source": [
        "# Total de Bugs Corrigidos\n",
        "df_relatorio ['Bugs Corrigidos'].sum()"
      ]
    },
    {
      "cell_type": "markdown",
      "metadata": {
        "id": "1UEj51M4RvUe"
      },
      "source": [
        "#<font color = ##013ADF> **Relatório 4** </font>- Calcular a Média Diária de Bugs Corrigidos.\n",
        "*  O código abaixo retorna a média diária de bugs corrigido no período analisado."
      ]
    },
    {
      "cell_type": "code",
      "execution_count": 17,
      "metadata": {
        "colab": {
          "base_uri": "https://localhost:8080/"
        },
        "id": "EMOnknwpR8Cj",
        "outputId": "b8f5ca37-7a93-47ae-ceeb-557f79c66558"
      },
      "outputs": [
        {
          "data": {
            "text/plain": [
              "2.2857142857142856"
            ]
          },
          "execution_count": 17,
          "metadata": {},
          "output_type": "execute_result"
        }
      ],
      "source": [
        "# Média Diária de Bugs Corrigidos\n",
        "df_relatorio ['Bugs Corrigidos'].mean()"
      ]
    },
    {
      "cell_type": "markdown",
      "metadata": {
        "id": "H8Md5h16SItV"
      },
      "source": [
        "#<font color = ##013ADF> **Relatório 5** </font>- Calcular o Total de Tarefas Concluídas.\n",
        "* O código abaixo retorna o total de tarefas concluidas no período."
      ]
    },
    {
      "cell_type": "code",
      "execution_count": 18,
      "metadata": {
        "colab": {
          "base_uri": "https://localhost:8080/"
        },
        "id": "slbl6rBrSOJf",
        "outputId": "6ba11693-d703-4a63-d6f2-dbc7ae11b307"
      },
      "outputs": [
        {
          "data": {
            "text/plain": [
              "29"
            ]
          },
          "execution_count": 18,
          "metadata": {},
          "output_type": "execute_result"
        }
      ],
      "source": [
        "# Total de Tarefas Concluídas\n",
        "df_relatorio ['Tarefas Concluídas'].sum()"
      ]
    },
    {
      "cell_type": "markdown",
      "metadata": {
        "id": "dZMdQAq5Sbdm"
      },
      "source": [
        "#<font color = ##013ADF> **Relatório 6** </font>- Calcular a Média Diária de Tarefas Concluídas.\n",
        "* O código abaixo retorna a média diária de tarefas concluidas."
      ]
    },
    {
      "cell_type": "code",
      "execution_count": 19,
      "metadata": {
        "colab": {
          "base_uri": "https://localhost:8080/"
        },
        "id": "hom1k6KtSpXu",
        "outputId": "90845e62-302e-4db6-c28a-72e299d5f0d4"
      },
      "outputs": [
        {
          "data": {
            "text/plain": [
              "4.142857142857143"
            ]
          },
          "execution_count": 19,
          "metadata": {},
          "output_type": "execute_result"
        }
      ],
      "source": [
        "# Média Diária de Tarefas Concluídas\n",
        "df_relatorio ['Tarefas Concluídas'].mean()"
      ]
    },
    {
      "cell_type": "markdown",
      "metadata": {
        "id": "bUcaQfwGS2YF"
      },
      "source": [
        "#<font color = ##013ADF> **Relatório 7** </font>- Calcular a Produtividade Diária (Tarefas Concluídas por Hora).\n",
        "* O código abaixo contém a produtividade diária."
      ]
    },
    {
      "cell_type": "code",
      "execution_count": 20,
      "metadata": {
        "colab": {
          "base_uri": "https://localhost:8080/"
        },
        "id": "gu3pJW2ETGSe",
        "outputId": "4b5cc8b7-e034-4908-ae8b-8881ce0c7123"
      },
      "outputs": [
        {
          "data": {
            "text/plain": [
              "0.6744186046511628"
            ]
          },
          "execution_count": 20,
          "metadata": {},
          "output_type": "execute_result"
        }
      ],
      "source": [
        "# Produtividade Diária (Tarefas Concluídas por Hora)\n",
        "produtividade = df_relatorio['Tarefas Concluídas'].sum() / df_relatorio['Horas Trabalhadas'].sum()\n",
        "produtividade"
      ]
    },
    {
      "cell_type": "markdown",
      "metadata": {
        "id": "BK5domPHTwgb"
      },
      "source": [
        "#<font color = #0B0B3B> **Vizualização em tabela** </font>- Nesta tabela temos a visualização dos dados com descrição e seus valores."
      ]
    },
    {
      "cell_type": "code",
      "execution_count": 22,
      "metadata": {
        "colab": {
          "base_uri": "https://localhost:8080/",
          "height": 269
        },
        "id": "nOSjLxrgUaRD",
        "outputId": "8943a845-f585-4b97-bb47-793086c60e54"
      },
      "outputs": [
        {
          "data": {
            "text/html": [
              "\n",
              "\n",
              "  <div id=\"df-8eda0b6c-795f-46f0-9a0e-dbe3592099eb\">\n",
              "    <div class=\"colab-df-container\">\n",
              "      <div>\n",
              "<style scoped>\n",
              "    .dataframe tbody tr th:only-of-type {\n",
              "        vertical-align: middle;\n",
              "    }\n",
              "\n",
              "    .dataframe tbody tr th {\n",
              "        vertical-align: top;\n",
              "    }\n",
              "\n",
              "    .dataframe thead th {\n",
              "        text-align: right;\n",
              "    }\n",
              "</style>\n",
              "<table border=\"1\" class=\"dataframe\">\n",
              "  <thead>\n",
              "    <tr style=\"text-align: right;\">\n",
              "      <th></th>\n",
              "      <th>0</th>\n",
              "    </tr>\n",
              "  </thead>\n",
              "  <tbody>\n",
              "    <tr>\n",
              "      <th>Total horas trabalhadas</th>\n",
              "      <td>43.00</td>\n",
              "    </tr>\n",
              "    <tr>\n",
              "      <th>Média horas trabalhadas</th>\n",
              "      <td>6.14</td>\n",
              "    </tr>\n",
              "    <tr>\n",
              "      <th>Total bugs corrigidos</th>\n",
              "      <td>16.00</td>\n",
              "    </tr>\n",
              "    <tr>\n",
              "      <th>Média bugs corrigidos</th>\n",
              "      <td>2.29</td>\n",
              "    </tr>\n",
              "    <tr>\n",
              "      <th>Total tarefas</th>\n",
              "      <td>29.00</td>\n",
              "    </tr>\n",
              "    <tr>\n",
              "      <th>Média tarefas concluída</th>\n",
              "      <td>4.14</td>\n",
              "    </tr>\n",
              "    <tr>\n",
              "      <th>Produtividade</th>\n",
              "      <td>0.67</td>\n",
              "    </tr>\n",
              "  </tbody>\n",
              "</table>\n",
              "</div>\n",
              "      <button class=\"colab-df-convert\" onclick=\"convertToInteractive('df-8eda0b6c-795f-46f0-9a0e-dbe3592099eb')\"\n",
              "              title=\"Convert this dataframe to an interactive table.\"\n",
              "              style=\"display:none;\">\n",
              "\n",
              "  <svg xmlns=\"http://www.w3.org/2000/svg\" height=\"24px\"viewBox=\"0 0 24 24\"\n",
              "       width=\"24px\">\n",
              "    <path d=\"M0 0h24v24H0V0z\" fill=\"none\"/>\n",
              "    <path d=\"M18.56 5.44l.94 2.06.94-2.06 2.06-.94-2.06-.94-.94-2.06-.94 2.06-2.06.94zm-11 1L8.5 8.5l.94-2.06 2.06-.94-2.06-.94L8.5 2.5l-.94 2.06-2.06.94zm10 10l.94 2.06.94-2.06 2.06-.94-2.06-.94-.94-2.06-.94 2.06-2.06.94z\"/><path d=\"M17.41 7.96l-1.37-1.37c-.4-.4-.92-.59-1.43-.59-.52 0-1.04.2-1.43.59L10.3 9.45l-7.72 7.72c-.78.78-.78 2.05 0 2.83L4 21.41c.39.39.9.59 1.41.59.51 0 1.02-.2 1.41-.59l7.78-7.78 2.81-2.81c.8-.78.8-2.07 0-2.86zM5.41 20L4 18.59l7.72-7.72 1.47 1.35L5.41 20z\"/>\n",
              "  </svg>\n",
              "      </button>\n",
              "\n",
              "\n",
              "\n",
              "    <div id=\"df-7b7e5821-27e7-40d1-9608-e1d2c00017eb\">\n",
              "      <button class=\"colab-df-quickchart\" onclick=\"quickchart('df-7b7e5821-27e7-40d1-9608-e1d2c00017eb')\"\n",
              "              title=\"Suggest charts.\"\n",
              "              style=\"display:none;\">\n",
              "\n",
              "<svg xmlns=\"http://www.w3.org/2000/svg\" height=\"24px\"viewBox=\"0 0 24 24\"\n",
              "     width=\"24px\">\n",
              "    <g>\n",
              "        <path d=\"M19 3H5c-1.1 0-2 .9-2 2v14c0 1.1.9 2 2 2h14c1.1 0 2-.9 2-2V5c0-1.1-.9-2-2-2zM9 17H7v-7h2v7zm4 0h-2V7h2v10zm4 0h-2v-4h2v4z\"/>\n",
              "    </g>\n",
              "</svg>\n",
              "      </button>\n",
              "    </div>\n",
              "\n",
              "<style>\n",
              "  .colab-df-quickchart {\n",
              "    background-color: #E8F0FE;\n",
              "    border: none;\n",
              "    border-radius: 50%;\n",
              "    cursor: pointer;\n",
              "    display: none;\n",
              "    fill: #1967D2;\n",
              "    height: 32px;\n",
              "    padding: 0 0 0 0;\n",
              "    width: 32px;\n",
              "  }\n",
              "\n",
              "  .colab-df-quickchart:hover {\n",
              "    background-color: #E2EBFA;\n",
              "    box-shadow: 0px 1px 2px rgba(60, 64, 67, 0.3), 0px 1px 3px 1px rgba(60, 64, 67, 0.15);\n",
              "    fill: #174EA6;\n",
              "  }\n",
              "\n",
              "  [theme=dark] .colab-df-quickchart {\n",
              "    background-color: #3B4455;\n",
              "    fill: #D2E3FC;\n",
              "  }\n",
              "\n",
              "  [theme=dark] .colab-df-quickchart:hover {\n",
              "    background-color: #434B5C;\n",
              "    box-shadow: 0px 1px 3px 1px rgba(0, 0, 0, 0.15);\n",
              "    filter: drop-shadow(0px 1px 2px rgba(0, 0, 0, 0.3));\n",
              "    fill: #FFFFFF;\n",
              "  }\n",
              "</style>\n",
              "\n",
              "    <script>\n",
              "      async function quickchart(key) {\n",
              "        const containerElement = document.querySelector('#' + key);\n",
              "        const charts = await google.colab.kernel.invokeFunction(\n",
              "            'suggestCharts', [key], {});\n",
              "      }\n",
              "    </script>\n",
              "\n",
              "      <script>\n",
              "\n",
              "function displayQuickchartButton(domScope) {\n",
              "  let quickchartButtonEl =\n",
              "    domScope.querySelector('#df-7b7e5821-27e7-40d1-9608-e1d2c00017eb button.colab-df-quickchart');\n",
              "  quickchartButtonEl.style.display =\n",
              "    google.colab.kernel.accessAllowed ? 'block' : 'none';\n",
              "}\n",
              "\n",
              "        displayQuickchartButton(document);\n",
              "      </script>\n",
              "      <style>\n",
              "    .colab-df-container {\n",
              "      display:flex;\n",
              "      flex-wrap:wrap;\n",
              "      gap: 12px;\n",
              "    }\n",
              "\n",
              "    .colab-df-convert {\n",
              "      background-color: #E8F0FE;\n",
              "      border: none;\n",
              "      border-radius: 50%;\n",
              "      cursor: pointer;\n",
              "      display: none;\n",
              "      fill: #1967D2;\n",
              "      height: 32px;\n",
              "      padding: 0 0 0 0;\n",
              "      width: 32px;\n",
              "    }\n",
              "\n",
              "    .colab-df-convert:hover {\n",
              "      background-color: #E2EBFA;\n",
              "      box-shadow: 0px 1px 2px rgba(60, 64, 67, 0.3), 0px 1px 3px 1px rgba(60, 64, 67, 0.15);\n",
              "      fill: #174EA6;\n",
              "    }\n",
              "\n",
              "    [theme=dark] .colab-df-convert {\n",
              "      background-color: #3B4455;\n",
              "      fill: #D2E3FC;\n",
              "    }\n",
              "\n",
              "    [theme=dark] .colab-df-convert:hover {\n",
              "      background-color: #434B5C;\n",
              "      box-shadow: 0px 1px 3px 1px rgba(0, 0, 0, 0.15);\n",
              "      filter: drop-shadow(0px 1px 2px rgba(0, 0, 0, 0.3));\n",
              "      fill: #FFFFFF;\n",
              "    }\n",
              "  </style>\n",
              "\n",
              "      <script>\n",
              "        const buttonEl =\n",
              "          document.querySelector('#df-8eda0b6c-795f-46f0-9a0e-dbe3592099eb button.colab-df-convert');\n",
              "        buttonEl.style.display =\n",
              "          google.colab.kernel.accessAllowed ? 'block' : 'none';\n",
              "\n",
              "        async function convertToInteractive(key) {\n",
              "          const element = document.querySelector('#df-8eda0b6c-795f-46f0-9a0e-dbe3592099eb');\n",
              "          const dataTable =\n",
              "            await google.colab.kernel.invokeFunction('convertToInteractive',\n",
              "                                                     [key], {});\n",
              "          if (!dataTable) return;\n",
              "\n",
              "          const docLinkHtml = 'Like what you see? Visit the ' +\n",
              "            '<a target=\"_blank\" href=https://colab.research.google.com/notebooks/data_table.ipynb>data table notebook</a>'\n",
              "            + ' to learn more about interactive tables.';\n",
              "          element.innerHTML = '';\n",
              "          dataTable['output_type'] = 'display_data';\n",
              "          await google.colab.output.renderOutput(dataTable, element);\n",
              "          const docLink = document.createElement('div');\n",
              "          docLink.innerHTML = docLinkHtml;\n",
              "          element.appendChild(docLink);\n",
              "        }\n",
              "      </script>\n",
              "    </div>\n",
              "  </div>\n"
            ],
            "text/plain": [
              "                             0\n",
              "Total horas trabalhadas  43.00\n",
              "Média horas trabalhadas   6.14\n",
              "Total bugs corrigidos    16.00\n",
              "Média bugs corrigidos     2.29\n",
              "Total tarefas            29.00\n",
              "Média tarefas concluída   4.14\n",
              "Produtividade             0.67"
            ]
          },
          "execution_count": 22,
          "metadata": {},
          "output_type": "execute_result"
        }
      ],
      "source": [
        "relatorio_completo = {'Total horas trabalhadas':[df_relatorio ['Horas Trabalhadas'].sum()],\n",
        "                      'Média horas trabalhadas':[df_relatorio ['Horas Trabalhadas'].mean()],\n",
        "                      'Total bugs corrigidos':[df_relatorio ['Bugs Corrigidos'].sum()],\n",
        "                      'Média bugs corrigidos':[df_relatorio ['Bugs Corrigidos'].mean()],\n",
        "                      'Total tarefas':[df_relatorio ['Tarefas Concluídas'].sum()],\n",
        "                      'Média tarefas concluída':[df_relatorio ['Tarefas Concluídas'].mean()],\n",
        "                      'Produtividade':[produtividade]}\n",
        "\n",
        "df_relatorio_completo = pd.DataFrame(relatorio_completo, index = [0])\n",
        "\n",
        "df_relatorio_completo['Total horas trabalhadas'] = df_relatorio_completo['Total horas trabalhadas'].round(2)\n",
        "df_relatorio_completo['Média horas trabalhadas'] = df_relatorio_completo['Média horas trabalhadas'].round(2)\n",
        "\n",
        "df_relatorio_completo['Total bugs corrigidos'] = df_relatorio_completo['Total bugs corrigidos'].round(2)\n",
        "df_relatorio_completo['Média bugs corrigidos'] = df_relatorio_completo['Média bugs corrigidos'].round(2)\n",
        "\n",
        "df_relatorio_completo['Total tarefas'] = df_relatorio_completo['Total tarefas'].round(2)\n",
        "df_relatorio_completo['Média tarefas concluída'] = df_relatorio_completo['Média tarefas concluída'].round(2)\n",
        "\n",
        "df_relatorio_completo['Produtividade'] = df_relatorio_completo['Produtividade'].round(2)\n",
        "\n",
        "df_relatorio_completo.T"
      ]
    },
    {
      "cell_type": "markdown",
      "metadata": {
        "id": "rX3UyLGbU6B9"
      },
      "source": [
        "Lembrando que a análise exploratória dos dados é uma etapa crucial para entender o progresso do projeto e identificar possíveis melhorias. Utilize as informações obtidas para fazer recomendações ao proprietário da equipe de desenvolvimento e contribuir para o sucesso do projeto."
      ]
    },
    {
      "cell_type": "markdown",
      "metadata": {
        "id": "lr_ClwyPVgHD"
      },
      "source": [
        "#<font color = #0B0B3B> **Vizualização em Gráficos** </font>- Existem diversas opções de gráficos que podem ser utilizados para visualizar os dados do relatório. Vou mostrar dois dos gráficos mais comuns e úteis para essa análise:"
      ]
    },
    {
      "cell_type": "code",
      "execution_count": 24,
      "metadata": {
        "colab": {
          "base_uri": "https://localhost:8080/",
          "height": 613
        },
        "id": "6VoPVQeGVwqi",
        "outputId": "7ddfce42-e073-4a57-9523-378137765c01"
      },
      "outputs": [
        {
          "data": {
            "image/png": "[encoded data removed]",
            "text/plain": [
              "<Figure size 1000x600 with 1 Axes>"
            ]
          },
          "metadata": {},
          "output_type": "display_data"
        }
      ],
      "source": [
        "# Gráfico de Barras (Horas Trabalhadas, Bugs Corrigidos, Tarefas Concluídas)\n",
        "df_relatorio.plot(x='Dias da Semana', y=['Horas Trabalhadas', 'Bugs Corrigidos', 'Tarefas Concluídas'], kind='bar', figsize=(10, 6))\n",
        "plt.title('Progresso Diário')\n",
        "plt.ylabel('Quantidade')\n",
        "plt.xlabel('Dias da Semana')\n",
        "plt.show()"
      ]
    },
    {
      "cell_type": "code",
      "execution_count": 25,
      "metadata": {
        "colab": {
          "base_uri": "https://localhost:8080/",
          "height": 565
        },
        "id": "tmjIHksdXoKU",
        "outputId": "2b5e38dc-97f1-4b1b-9a32-916acdb2ed45"
      },
      "outputs": [
        {
          "data": {
            "image/png": "[encoded data removed]",
            "text/plain": [
              "<Figure size 1000x600 with 1 Axes>"
            ]
          },
          "metadata": {},
          "output_type": "display_data"
        }
      ],
      "source": [
        "# Gráfico de Linhas (Horas Trabalhadas, Bugs Corrigidos, Tarefas Concluídas)\n",
        "df_relatorio.plot(x='Dias da Semana', y=['Horas Trabalhadas', 'Bugs Corrigidos', 'Tarefas Concluídas'], marker='o', figsize=(10, 6))\n",
        "plt.title('Evolução Diária')\n",
        "plt.ylabel('Quantidade')\n",
        "plt.xlabel('Dias da Semana')\n",
        "plt.show()"
      ]
    },
    {
      "cell_type": "markdown",
      "metadata": {
        "id": "UX0UnlOZXuat"
      },
      "source": [
        "Esses são apenas alguns exemplos de gráficos que podem ser utilizados para visualizar os dados do relatório. A escolha do gráfico mais adequado dependerá da análise específica que você deseja realizar e da forma como pretende apresentar as informações."
      ]
    }
  ],
  "metadata": {
    "colab": {
      "collapsed_sections": [
        "JDMvToyxJYqE"
      ],
      "provenance": []
    },
    "kernelspec": {
      "display_name": "Python 3",
      "name": "python3"
    },
    "language_info": {
      "name": "python"
    }
  },
  "nbformat": 4,
  "nbformat_minor": 0
}
